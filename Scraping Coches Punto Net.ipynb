{
 "cells": [
  {
   "cell_type": "code",
   "execution_count": 1,
   "id": "8a3907ab",
   "metadata": {},
   "outputs": [],
   "source": [
    "import ssl\n",
    "ssl._create_default_https_context = ssl._create_unverified_context"
   ]
  },
  {
   "cell_type": "code",
   "execution_count": 2,
   "id": "ca46e39c",
   "metadata": {},
   "outputs": [],
   "source": [
    "from selenium.webdriver import ActionChains\n",
    "from selenium.webdriver.common.by import By\n",
    "from datetime import datetime\n",
    "import random\n",
    "import re\n",
    "import time\n",
    "import undetected_chromedriver as uc\n",
    "from selenium import webdriver\n",
    "import json"
   ]
  },
  {
   "cell_type": "code",
   "execution_count": 10,
   "id": "ea6c5754",
   "metadata": {
    "scrolled": false
   },
   "outputs": [],
   "source": [
    "def get_driver():\n",
    "  options = webdriver.ChromeOptions()\n",
    "  options.add_argument('--user-agent=Mozilla/5.0 (Windows NT 10.0; Win64; x64) AppleWebKit/537.36 (KHTML, like Gecko) Chrome/94.0.4606.61 Safari/537.36')\n",
    "  options.add_argument(\"--incognito\")\n",
    "  driver = uc.Chrome(options = options)\n",
    "  driver.set_page_load_timeout(60)\n",
    "  driver.set_window_size(1366, 768)\n",
    "  driver.set_window_position(0, 0)\n",
    "  driver.delete_all_cookies()\n",
    "  driver.execute_script(\"localStorage.clear();\")\n",
    "  driver.execute_script(\"sessionStorage.clear();\")\n",
    "  driver.execute_script(\"history.go(0);\")\n",
    "  driver.execute_cdp_cmd('Page.addScriptToEvaluateOnNewDocument', {\n",
    "    'source': 'Object.defineProperty(navigator, \"webdriver\", {get: () => undefined})'\n",
    "  })\n",
    "  return driver\n",
    "\n",
    "def get_cars(driver, urls):\n",
    "    cars = []\n",
    "    for url in urls:\n",
    "        if url != None:\n",
    "            car = get_car(driver, url)\n",
    "            cars.append(car)\n",
    "            cars_total += 1\n",
    "    display(len(cars))\n",
    "    display(cars)\n",
    "    return cars\n",
    "\n",
    "def get_links(driver, url):\n",
    "    actions = ActionChains(driver)\n",
    "    driver.get(url)\n",
    "    time.sleep(random.uniform(0.5, 1.5))\n",
    "    try:\n",
    "        button = driver.find_element(by=By.XPATH, value='/html/body/div/div/div[2]/div/div[2]/div/div/div/footer/div/button[2]')\n",
    "        actions.move_to_element(button).perform()\n",
    "        button.click()\n",
    "        time.sleep(random.uniform(0.8, 1.2))\n",
    "    except:\n",
    "        pass\n",
    "    increment = 100\n",
    "    position = 0\n",
    "    while True:\n",
    "        driver.execute_script(\"window.scrollTo(0, \" + str(increment) + \");\")\n",
    "        elements = driver.find_elements(by=By.XPATH, value=\"//div[@class='mt-ListAds']//@href\")\n",
    "        time.sleep(random.uniform(0.2, 0.8))\n",
    "        links = [element.get_attribute('href') for element in elements]\n",
    "        if position == 0:\n",
    "            try:\n",
    "                actions.move_to_element(elements[0]).perform()\n",
    "            except:\n",
    "                pass\n",
    "            position += 1\n",
    "        else:\n",
    "            try:\n",
    "                actions.move_by_offset(random.uniform(-20, 20), random.uniform(-100, 200))\n",
    "            except:\n",
    "                pass\n",
    "        increment += 300\n",
    "        if len(elements) >= 30 or increment >= 10000:\n",
    "            break\n",
    "    links = [element.get_attribute('href') for element in elements]\n",
    "    display(len(links))\n",
    "    display(links)\n",
    "    return links\n",
    "\n",
    "def get_car(driver, url):\n",
    "    car = {}\n",
    "    actions = ActionChains(driver)\n",
    "    driver.get(url)\n",
    "    time.sleep(random.uniform(0.5, 1.5))\n",
    "    try:\n",
    "        button = driver.find_element(by=By.XPATH, value='/html/body/div[1]/div/div[2]/div/div[3]/div/div/div/footer/div/button[2]')\n",
    "        actions.move_to_element(button).perform()\n",
    "        button.click()\n",
    "        time.sleep(random.uniform(0.8, 1.2))\n",
    "    except:\n",
    "        pass\n",
    "    car['url'] = url\n",
    "    car['datetime'] = datetime.now()\n",
    "    \n",
    "    car['resto_de_datos'] = get_all_car_info()\n",
    "    \n",
    "    try:\n",
    "        actions.move_by_offset(random.uniform(-20, 20), random.uniform(-100, 100))\n",
    "    except:\n",
    "        pass\n",
    "    time.sleep(random.uniform(1.8, 3.2))\n",
    "    return car\n",
    "\n",
    "def get_all_car_info():\n",
    "  # Busca todas las etiquetas 'script' dentro del 'body'\n",
    "  script_tags = driver.find_elements(By.XPATH, \"//body//script\")\n",
    "  script_content = \"\"\n",
    "\n",
    "  for tag in script_tags:\n",
    "      script = tag.get_attribute(\"innerHTML\")\n",
    "      if '__INITIAL_PROPS__' in script:\n",
    "          script_content = script\n",
    "          break\n",
    "  # extraer la cadena JSON del texto plano\n",
    "  match = re.search(r'JSON.parse\\(\"(.*?)\"\\);', script_content)\n",
    "\n",
    "  json_string = match.group(1)\n",
    "  json_string = re.sub(r'\\\\([\\\\\"])', r'\\1', json_string) # eliminar las barras invertidas escapadas\n",
    "  json_string = json_string.replace('\\r', '') # eliminar los caracteres \"\\r\"\n",
    "\n",
    "  # analizar la cadena JSON\n",
    "  json_data = json.loads(json_string)\n",
    "\n",
    "  # Procesar json\n",
    "  keys_to_extract = [\n",
    "      \"color\", \"fuelTypeId\", \"fuelType\", \"id\", \"km\", \"make\", \"makeId\", \"model\", \"modelId\", \"price\", \"province\",\n",
    "      \"provinceId\", \"title\", \"transmissionType\", \"transmissionTypeId\", \"year\"\n",
    "  ]\n",
    "\n",
    "  processed_json = {key: json_data[\"ad\"][key] for key in keys_to_extract}\n",
    "  processed_json.update({key: json_data[\"leadData\"][key] for key in [\"brand\", \"brand_id\", \"fuel_types\", \"model_id\", \"seller_type\"]})\n",
    "  processed_json.update({key: json_data[\"vehicleInfo\"][\"specifications\"][key] for key in [\"bodyType\", \"cubicCapacity\", \"doors\", \"hp\"]})\n",
    "\n",
    "  processed_json[\"url\"] = 'https://www.coches.net' + json_data[\"ad\"][\"url\"]\n",
    "\n",
    "  #print(processed_json)\n",
    "  return processed_json\n"
   ]
  },
  {
   "cell_type": "code",
   "execution_count": 7,
   "id": "7c16285f",
   "metadata": {},
   "outputs": [],
   "source": [
    "driver = get_driver()\n",
    "actions = ActionChains(driver)\n",
    "driver.get('https://www.coches.net/segunda-mano/?MakeId=1330')\n",
    "try:\n",
    "  actions.move_by_offset(random.uniform(-20, 20), random.uniform(-100, 200))\n",
    "except:\n",
    "  pass\n",
    "time.sleep(random.uniform(0.5, 1.5))\n",
    "try:\n",
    "  button = driver.find_element(by=By.XPATH, value='/html/body/div[1]/div/div[2]/div/div[3]/div/div/div/footer/div/button[2]')\n",
    "  try:\n",
    "    actions.move_to_element(button).perform()\n",
    "  except:\n",
    "    pass\n",
    "  button.click()\n",
    "  time.sleep(random.uniform(0.8, 1.2))\n",
    "except:\n",
    "  pass"
   ]
  },
  {
   "cell_type": "code",
   "execution_count": null,
   "id": "f8c18d6e",
   "metadata": {
    "scrolled": true
   },
   "outputs": [],
   "source": [
    "coche = get_car(driver,'https://www.coches.net/abarth-500c-595c-turismo-14-16v-tjet-121kw-e6d-gasolina-2020-en-salamanca-53762829-covo.aspx')"
   ]
  },
  {
   "cell_type": "code",
   "execution_count": 11,
   "id": "db9a802e",
   "metadata": {
    "scrolled": true
   },
   "outputs": [
    {
     "ename": "InvalidSelectorException",
     "evalue": "Message: invalid selector: The result of the xpath expression \"//div[@class='mt-ListAds']//@href\" is: [object Attr]. It should be an element.\n  (Session info: chrome=112.0.5615.49)\nStacktrace:\nBacktrace:\n\tGetHandleVerifier [0x0022DCE3+50899]\n\t(No symbol) [0x001BE111]\n\t(No symbol) [0x000C5588]\n\t(No symbol) [0x000C7EDB]\n\t(No symbol) [0x000C7DB0]\n\t(No symbol) [0x000C8030]\n\t(No symbol) [0x000F0552]\n\t(No symbol) [0x000F0AFB]\n\t(No symbol) [0x0011F93C]\n\t(No symbol) [0x0010B944]\n\t(No symbol) [0x0011E01C]\n\t(No symbol) [0x0010B6F6]\n\t(No symbol) [0x000E7708]\n\t(No symbol) [0x000E886D]\n\tGetHandleVerifier [0x00493EAE+2566302]\n\tGetHandleVerifier [0x004C92B1+2784417]\n\tGetHandleVerifier [0x004C327C+2759788]\n\tGetHandleVerifier [0x002C5740+672048]\n\t(No symbol) [0x001C8872]\n\t(No symbol) [0x001C41C8]\n\t(No symbol) [0x001C42AB]\n\t(No symbol) [0x001B71B7]\n\tBaseThreadInitThunk [0x767A00F9+25]\n\tRtlGetAppContainerNamedObjectPath [0x776A7BBE+286]\n\tRtlGetAppContainerNamedObjectPath [0x776A7B8E+238]\n\t(No symbol) [0x00000000]\n",
     "output_type": "error",
     "traceback": [
      "\u001b[1;31m---------------------------------------------------------------------------\u001b[0m",
      "\u001b[1;31mInvalidSelectorException\u001b[0m                  Traceback (most recent call last)",
      "Cell \u001b[1;32mIn[11], line 1\u001b[0m\n\u001b[1;32m----> 1\u001b[0m links \u001b[38;5;241m=\u001b[39m \u001b[43mget_links\u001b[49m\u001b[43m(\u001b[49m\u001b[43mdriver\u001b[49m\u001b[43m,\u001b[49m\u001b[38;5;124;43m'\u001b[39;49m\u001b[38;5;124;43mhttps://www.coches.net/segunda-mano/?MakeId=1330\u001b[39;49m\u001b[38;5;124;43m'\u001b[39;49m\u001b[43m)\u001b[49m\n",
      "Cell \u001b[1;32mIn[10], line 44\u001b[0m, in \u001b[0;36mget_links\u001b[1;34m(driver, url)\u001b[0m\n\u001b[0;32m     42\u001b[0m \u001b[38;5;28;01mwhile\u001b[39;00m \u001b[38;5;28;01mTrue\u001b[39;00m:\n\u001b[0;32m     43\u001b[0m     driver\u001b[38;5;241m.\u001b[39mexecute_script(\u001b[38;5;124m\"\u001b[39m\u001b[38;5;124mwindow.scrollTo(0, \u001b[39m\u001b[38;5;124m\"\u001b[39m \u001b[38;5;241m+\u001b[39m \u001b[38;5;28mstr\u001b[39m(increment) \u001b[38;5;241m+\u001b[39m \u001b[38;5;124m\"\u001b[39m\u001b[38;5;124m);\u001b[39m\u001b[38;5;124m\"\u001b[39m)\n\u001b[1;32m---> 44\u001b[0m     elements \u001b[38;5;241m=\u001b[39m \u001b[43mdriver\u001b[49m\u001b[38;5;241;43m.\u001b[39;49m\u001b[43mfind_elements\u001b[49m\u001b[43m(\u001b[49m\u001b[43mby\u001b[49m\u001b[38;5;241;43m=\u001b[39;49m\u001b[43mBy\u001b[49m\u001b[38;5;241;43m.\u001b[39;49m\u001b[43mXPATH\u001b[49m\u001b[43m,\u001b[49m\u001b[43m \u001b[49m\u001b[43mvalue\u001b[49m\u001b[38;5;241;43m=\u001b[39;49m\u001b[38;5;124;43m\"\u001b[39;49m\u001b[38;5;124;43m//div[@class=\u001b[39;49m\u001b[38;5;124;43m'\u001b[39;49m\u001b[38;5;124;43mmt-ListAds\u001b[39;49m\u001b[38;5;124;43m'\u001b[39;49m\u001b[38;5;124;43m]//@href\u001b[39;49m\u001b[38;5;124;43m\"\u001b[39;49m\u001b[43m)\u001b[49m\n\u001b[0;32m     45\u001b[0m     time\u001b[38;5;241m.\u001b[39msleep(random\u001b[38;5;241m.\u001b[39muniform(\u001b[38;5;241m0.2\u001b[39m, \u001b[38;5;241m0.8\u001b[39m))\n\u001b[0;32m     46\u001b[0m     links \u001b[38;5;241m=\u001b[39m [element\u001b[38;5;241m.\u001b[39mget_attribute(\u001b[38;5;124m'\u001b[39m\u001b[38;5;124mhref\u001b[39m\u001b[38;5;124m'\u001b[39m) \u001b[38;5;28;01mfor\u001b[39;00m element \u001b[38;5;129;01min\u001b[39;00m elements]\n",
      "File \u001b[1;32mc:\\IABD\\PIA\\cochescrap\\Lib\\site-packages\\selenium\\webdriver\\remote\\webdriver.py:861\u001b[0m, in \u001b[0;36mWebDriver.find_elements\u001b[1;34m(self, by, value)\u001b[0m\n\u001b[0;32m    857\u001b[0m     value \u001b[38;5;241m=\u001b[39m \u001b[38;5;124mf\u001b[39m\u001b[38;5;124m'\u001b[39m\u001b[38;5;124m[name=\u001b[39m\u001b[38;5;124m\"\u001b[39m\u001b[38;5;132;01m{\u001b[39;00mvalue\u001b[38;5;132;01m}\u001b[39;00m\u001b[38;5;124m\"\u001b[39m\u001b[38;5;124m]\u001b[39m\u001b[38;5;124m'\u001b[39m\n\u001b[0;32m    859\u001b[0m \u001b[38;5;66;03m# Return empty list if driver returns null\u001b[39;00m\n\u001b[0;32m    860\u001b[0m \u001b[38;5;66;03m# See https://github.com/SeleniumHQ/selenium/issues/4555\u001b[39;00m\n\u001b[1;32m--> 861\u001b[0m \u001b[38;5;28;01mreturn\u001b[39;00m \u001b[38;5;28;43mself\u001b[39;49m\u001b[38;5;241;43m.\u001b[39;49m\u001b[43mexecute\u001b[49m\u001b[43m(\u001b[49m\u001b[43mCommand\u001b[49m\u001b[38;5;241;43m.\u001b[39;49m\u001b[43mFIND_ELEMENTS\u001b[49m\u001b[43m,\u001b[49m\u001b[43m \u001b[49m\u001b[43m{\u001b[49m\u001b[38;5;124;43m\"\u001b[39;49m\u001b[38;5;124;43musing\u001b[39;49m\u001b[38;5;124;43m\"\u001b[39;49m\u001b[43m:\u001b[49m\u001b[43m \u001b[49m\u001b[43mby\u001b[49m\u001b[43m,\u001b[49m\u001b[43m \u001b[49m\u001b[38;5;124;43m\"\u001b[39;49m\u001b[38;5;124;43mvalue\u001b[39;49m\u001b[38;5;124;43m\"\u001b[39;49m\u001b[43m:\u001b[49m\u001b[43m \u001b[49m\u001b[43mvalue\u001b[49m\u001b[43m}\u001b[49m\u001b[43m)\u001b[49m[\u001b[38;5;124m\"\u001b[39m\u001b[38;5;124mvalue\u001b[39m\u001b[38;5;124m\"\u001b[39m] \u001b[38;5;129;01mor\u001b[39;00m []\n",
      "File \u001b[1;32mc:\\IABD\\PIA\\cochescrap\\Lib\\site-packages\\selenium\\webdriver\\remote\\webdriver.py:440\u001b[0m, in \u001b[0;36mWebDriver.execute\u001b[1;34m(self, driver_command, params)\u001b[0m\n\u001b[0;32m    438\u001b[0m response \u001b[38;5;241m=\u001b[39m \u001b[38;5;28mself\u001b[39m\u001b[38;5;241m.\u001b[39mcommand_executor\u001b[38;5;241m.\u001b[39mexecute(driver_command, params)\n\u001b[0;32m    439\u001b[0m \u001b[38;5;28;01mif\u001b[39;00m response:\n\u001b[1;32m--> 440\u001b[0m     \u001b[38;5;28;43mself\u001b[39;49m\u001b[38;5;241;43m.\u001b[39;49m\u001b[43merror_handler\u001b[49m\u001b[38;5;241;43m.\u001b[39;49m\u001b[43mcheck_response\u001b[49m\u001b[43m(\u001b[49m\u001b[43mresponse\u001b[49m\u001b[43m)\u001b[49m\n\u001b[0;32m    441\u001b[0m     response[\u001b[38;5;124m\"\u001b[39m\u001b[38;5;124mvalue\u001b[39m\u001b[38;5;124m\"\u001b[39m] \u001b[38;5;241m=\u001b[39m \u001b[38;5;28mself\u001b[39m\u001b[38;5;241m.\u001b[39m_unwrap_value(response\u001b[38;5;241m.\u001b[39mget(\u001b[38;5;124m\"\u001b[39m\u001b[38;5;124mvalue\u001b[39m\u001b[38;5;124m\"\u001b[39m, \u001b[38;5;28;01mNone\u001b[39;00m))\n\u001b[0;32m    442\u001b[0m     \u001b[38;5;28;01mreturn\u001b[39;00m response\n",
      "File \u001b[1;32mc:\\IABD\\PIA\\cochescrap\\Lib\\site-packages\\selenium\\webdriver\\remote\\errorhandler.py:245\u001b[0m, in \u001b[0;36mErrorHandler.check_response\u001b[1;34m(self, response)\u001b[0m\n\u001b[0;32m    243\u001b[0m         alert_text \u001b[38;5;241m=\u001b[39m value[\u001b[38;5;124m\"\u001b[39m\u001b[38;5;124malert\u001b[39m\u001b[38;5;124m\"\u001b[39m]\u001b[38;5;241m.\u001b[39mget(\u001b[38;5;124m\"\u001b[39m\u001b[38;5;124mtext\u001b[39m\u001b[38;5;124m\"\u001b[39m)\n\u001b[0;32m    244\u001b[0m     \u001b[38;5;28;01mraise\u001b[39;00m exception_class(message, screen, stacktrace, alert_text)  \u001b[38;5;66;03m# type: ignore[call-arg]  # mypy is not smart enough here\u001b[39;00m\n\u001b[1;32m--> 245\u001b[0m \u001b[38;5;28;01mraise\u001b[39;00m exception_class(message, screen, stacktrace)\n",
      "\u001b[1;31mInvalidSelectorException\u001b[0m: Message: invalid selector: The result of the xpath expression \"//div[@class='mt-ListAds']//@href\" is: [object Attr]. It should be an element.\n  (Session info: chrome=112.0.5615.49)\nStacktrace:\nBacktrace:\n\tGetHandleVerifier [0x0022DCE3+50899]\n\t(No symbol) [0x001BE111]\n\t(No symbol) [0x000C5588]\n\t(No symbol) [0x000C7EDB]\n\t(No symbol) [0x000C7DB0]\n\t(No symbol) [0x000C8030]\n\t(No symbol) [0x000F0552]\n\t(No symbol) [0x000F0AFB]\n\t(No symbol) [0x0011F93C]\n\t(No symbol) [0x0010B944]\n\t(No symbol) [0x0011E01C]\n\t(No symbol) [0x0010B6F6]\n\t(No symbol) [0x000E7708]\n\t(No symbol) [0x000E886D]\n\tGetHandleVerifier [0x00493EAE+2566302]\n\tGetHandleVerifier [0x004C92B1+2784417]\n\tGetHandleVerifier [0x004C327C+2759788]\n\tGetHandleVerifier [0x002C5740+672048]\n\t(No symbol) [0x001C8872]\n\t(No symbol) [0x001C41C8]\n\t(No symbol) [0x001C42AB]\n\t(No symbol) [0x001B71B7]\n\tBaseThreadInitThunk [0x767A00F9+25]\n\tRtlGetAppContainerNamedObjectPath [0x776A7BBE+286]\n\tRtlGetAppContainerNamedObjectPath [0x776A7B8E+238]\n\t(No symbol) [0x00000000]\n"
     ]
    }
   ],
   "source": [
    "links = get_links(driver,'https://www.coches.net/segunda-mano/?MakeId=1330')"
   ]
  },
  {
   "cell_type": "code",
   "execution_count": 9,
   "id": "7952630c",
   "metadata": {},
   "outputs": [
    {
     "data": {
      "text/plain": [
       "[]"
      ]
     },
     "execution_count": 9,
     "metadata": {},
     "output_type": "execute_result"
    }
   ],
   "source": [
    "links"
   ]
  },
  {
   "cell_type": "code",
   "execution_count": null,
   "id": "c692e881",
   "metadata": {
    "scrolled": false
   },
   "outputs": [],
   "source": []
  },
  {
   "cell_type": "code",
   "execution_count": null,
   "id": "616f8d99",
   "metadata": {},
   "outputs": [],
   "source": []
  }
 ],
 "metadata": {
  "kernelspec": {
   "display_name": "Python 3 (ipykernel)",
   "language": "python",
   "name": "python3"
  },
  "language_info": {
   "codemirror_mode": {
    "name": "ipython",
    "version": 3
   },
   "file_extension": ".py",
   "mimetype": "text/x-python",
   "name": "python",
   "nbconvert_exporter": "python",
   "pygments_lexer": "ipython3",
   "version": "3.11.0"
  }
 },
 "nbformat": 4,
 "nbformat_minor": 5
}
